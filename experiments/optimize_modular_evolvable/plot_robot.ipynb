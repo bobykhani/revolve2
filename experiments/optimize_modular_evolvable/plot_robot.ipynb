{
 "cells": [
  {
   "cell_type": "code",
   "execution_count": 6,
   "metadata": {
    "collapsed": true
   },
   "outputs": [],
   "source": [
    "from revolve2.core.modular_robot.render.render import Render\n",
    "from robots import *\n",
    "render = Render()\n",
    "render.render_robot(gecko().core, './test.png')\n"
   ]
  },
  {
   "cell_type": "code",
   "execution_count": 12,
   "outputs": [],
   "source": [
    "render.render_robot(blokky().core, 'robot/blokky.png')\n",
    "render.render_robot(gecko().core, 'robot/gecko.png')\n",
    "render.render_robot(squarish().core, 'robot/squarish.png')\n",
    "render.render_robot(spider().core, 'robot/spider.png')\n",
    "render.render_robot(ant().core, 'robot/ant.png')\n",
    "render.render_robot(babya().core, 'robot/babya.png')\n",
    "render.render_robot(tinlicker().core, 'robot/tinlicker.png')\n",
    "render.render_robot(snake().core, 'robot/snake.png')\n",
    "render.render_robot(park().core, 'robot/park.png')\n",
    "render.render_robot(insect().core, 'robot/insect.png')\n",
    "render.render_robot(stingray().core, 'robot/stingray.png')\n",
    "render.render_robot(queen().core, 'robot/queen.png')\n",
    "render.render_robot(babyb().core, 'robot/babyb.png')\n",
    "render.render_robot(garrix().core, 'robot/garrix.png')\n",
    "render.render_robot(ww().core, 'robot/ww.png')\n",
    "render.render_robot(pentapod().core, 'robot/pentapod.png')\n",
    "render.render_robot(zappa().core, 'robot/zappa.png')\n",
    "render.render_robot(linkin().core, 'robot/linkin.png')\n",
    "render.render_robot(longleg().core, 'robot/longleg.png')\n",
    "render.render_robot(penguin().core, 'robot/penguin.png')\n",
    "render.render_robot(turtle().core, 'robot/turtle.png')\n",
    "render.render_robot(salamander().core, 'robot/salamander.png')\n"
   ],
   "metadata": {
    "collapsed": false
   }
  },
  {
   "cell_type": "code",
   "execution_count": 7,
   "outputs": [
    {
     "data": {
      "text/plain": "[5, 7, 9, 1, 11, 3]"
     },
     "execution_count": 7,
     "metadata": {},
     "output_type": "execute_result"
    }
   ],
   "source": [
    "render.get_active_hinge_ids_ordered(gecko().core)"
   ],
   "metadata": {
    "collapsed": false
   }
  },
  {
   "cell_type": "code",
   "execution_count": 8,
   "outputs": [
    {
     "data": {
      "text/plain": "[13, 15, 5, 1, 7, 3, 9, 11]"
     },
     "execution_count": 8,
     "metadata": {},
     "output_type": "execute_result"
    }
   ],
   "source": [
    "render.get_active_hinge_ids_ordered(spider().core)\n"
   ],
   "metadata": {
    "collapsed": false
   }
  },
  {
   "cell_type": "code",
   "execution_count": 9,
   "outputs": [
    {
     "data": {
      "text/plain": "[5, 13, 7, 9, 1, 15, 11, 3]"
     },
     "execution_count": 9,
     "metadata": {},
     "output_type": "execute_result"
    }
   ],
   "source": [
    "render.get_active_hinge_ids_ordered(ant().core)\n"
   ],
   "metadata": {
    "collapsed": false
   }
  },
  {
   "cell_type": "code",
   "execution_count": null,
   "outputs": [],
   "source": [],
   "metadata": {
    "collapsed": false
   }
  }
 ],
 "metadata": {
  "kernelspec": {
   "display_name": "Python 3",
   "language": "python",
   "name": "python3"
  },
  "language_info": {
   "codemirror_mode": {
    "name": "ipython",
    "version": 2
   },
   "file_extension": ".py",
   "mimetype": "text/x-python",
   "name": "python",
   "nbconvert_exporter": "python",
   "pygments_lexer": "ipython2",
   "version": "2.7.6"
  }
 },
 "nbformat": 4,
 "nbformat_minor": 0
}
